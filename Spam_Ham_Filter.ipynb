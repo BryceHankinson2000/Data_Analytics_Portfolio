{
  "nbformat": 4,
  "nbformat_minor": 0,
  "metadata": {
    "colab": {
      "provenance": []
    },
    "kernelspec": {
      "name": "python3",
      "display_name": "Python 3"
    },
    "language_info": {
      "name": "python"
    }
  },
  "cells": [
    {
      "cell_type": "code",
      "execution_count": null,
      "metadata": {
        "id": "hLTPZVs8gIPl"
      },
      "outputs": [],
      "source": [
        "import numpy as np\n",
        "import matplotlib.pyplot as plt\n",
        "import pandas as pd"
      ]
    },
    {
      "cell_type": "code",
      "source": [
        "csv = pd.read_csv('https://raw.githubusercontent.com/tasdikrahman/datasets/master/email/csv/spam-apache.csv', header = None)\n",
        "\n",
        "emails = csv[1]\n",
        "labels = csv[0].to_numpy()\n",
        "print(emails[0])    #email controls & display of outcome of what email is being viewed ; simply change integer in emails array\n",
        "#labels"
      ],
      "metadata": {
        "id": "0h5DlqsVJFdv",
        "colab": {
          "base_uri": "https://localhost:8080/"
        },
        "outputId": "82fb439f-655d-479a-9a99-1ea5f4cd9ede"
      },
      "execution_count": null,
      "outputs": [
        {
          "output_type": "stream",
          "name": "stdout",
          "text": [
            "<!DOCTYPE HTML PUBLIC \"-//W3C//DTD HTML 4.0 Transitional//EN\">\n",
            "<HTML><HEAD>\n",
            "<META http-equiv=Content-Type content=\"text/html; charset=iso-8859-1\">\n",
            "<META content=\"MSHTML 6.00.2600.0\" name=GENERATOR>\n",
            "<STYLE></STYLE>\n",
            "</HEAD>\n",
            "<BODY bgColor=#ffffff>\n",
            "<DIV><FONT face=Arial size=2><FONT face=\"Times New Roman\" size=3>Dear \n",
            "Friend,<BR><BR>A recent survey by Nielsen/Netratings says that \"The Internet \n",
            "<BR>population is rapidly approaching a 'Half a Billion' people!\"<BR><BR>SO WHAT \n",
            "DOES ALL THIS MEAN TO YOU? EASY MONEY!!<BR><BR>Let's assume that every person \n",
            "has only one E-mail address...<BR>that's 500 million potential customers and \n",
            "growing!  In addition,<BR>E'mail is without question the most powerful \n",
            "method of distributing<BR>information on the face of the earth.<BR><BR>Well, I \n",
            "think you get the picture.  The numbers and potential are <BR>just \n",
            "staggering, but it gets even better...<BR><BR>Suppose I told you that you could \n",
            "start your own E-mail business<BR>today and enjoy these \n",
            "benefits:<BR><BR>     *** All Customers Pay You In \n",
            "Cash!!!<BR>     *** You Will Sell A Product Which Costs \n",
            "Nothing to Produce!<BR>     *** Your Only Overhead Is Your \n",
            "Time!<BR>     *** You Have 100s Of Millions Of Potential \n",
            "Customers!!!<BR>     *** You Get Detailed, Easy To Follow \n",
            "Startup \n",
            "Instructions!<BR><BR>          AND \n",
            "THIS IS JUST THE TIP OF THE ICEBERG . . .<BR>As you read on you'll discover how \n",
            "a 'Seen on National TV' <BR>program is paying out a half million dollars, every \n",
            "4 to 5 months<BR>from your home, for an investment of only $25 US Dollars \n",
            "expense,<BR>one time.  ALL THANKS TO THE COMPUTER AGE . . . <BR>AND THE \n",
            "INTERNET!<BR><BR>Before you say \"Bull\", please read the following:<BR>This is \n",
            "the letter you have been hearing about on the news<BR>lately.  Due to the \n",
            "popularity of this letter on the Internet,<BR>a national weekly news program \n",
            "recently devoted an entire<BR>show to the investigation of this program \n",
            "described below,<BR>to see if it really can make people money.<BR><BR>The show \n",
            "also investigated whether or not the program was<BR>legal.  Their findings \n",
            "proved once and for all that there are<BR>\"absolutely NO laws prohibiting the \n",
            "participation in the<BR>program and if people can follow the simple \n",
            "instructions,<BR>they are bound to make some mega bucks with only $25 out \n",
            "of<BR>pocket cost\".<BR><BR>     DUE TO THE RECENT INCREASE \n",
            "OF POPULARITY<BR>     AND RESPECT THIS PROGRAM HAS \n",
            "ATTAINED,<BR>     IT IS CURRENTLY WORKING BETTER THAN \n",
            "EVER!<BR><BR>***** This is what one had to say:<BR><BR>\"Thanks to this \n",
            "profitable opportunity.  I was approached many<BR>times before but each \n",
            "time I passed on it.  I am so glad I<BR>finally joined just to see what one \n",
            "could expect in return<BR>for the minimal effort and money required.  To my \n",
            "asonishment,<BR>I received total $610,470.00 in 21 weeks, with money \n",
            "still<BR>coming \n",
            "in\".<BR><BR>          Pam \n",
            "Hedland,  Fort Lee, New \n",
            "Jersey<BR>----------------------------------------------------------------<BR>Here \n",
            "is another testimonial:<BR><BR>\"This program has been around for a long time but \n",
            "I never<BR>believed in it.  But one day when I received this again in \n",
            "<BR>the mail I decided to gamble my $25 on it.  I followed the<BR>simple \n",
            "instructions and walaa. . . .  3 weeks later the money<BR>started to come \n",
            "in.  First month I only made $240.00 but the<BR>next 2 months after that I \n",
            "made a total of $290,000.00.<BR>So far, in the past 8 months by re-entering the \n",
            "program, I <BR>have made over $710,000.00 and I am playing it again.<BR><BR>The \n",
            "key to success in this program is to follow the simple<BR>steps and NOT change \n",
            "anything.\"<BR><BR>More testimonials later but first:<BR><BR>** PRINT THIS NOW \n",
            "FOR YOUR FUTURE REFERENCE<BR><BR>If you would like to make at least $500,000 \n",
            "every 4 to 5 <BR>months easily and comfortably, please read the following . . \n",
            ".<BR>THEN READ IT AGAIN and AGAIN!!!<BR><BR>**FOLLOW THESE SIMPLE \n",
            "INSTRUCTIONS,<BR>    TO MAKE YOUR FINANCIAL DREAMS \n",
            "<BR>    COME \n",
            "TRUE**<BR><BR>INSTRUCTIONS:<BR>-------------------<BR>***** Order all 5 reports \n",
            "shown on the list below.<BR><BR>***** For each report, send $5 US CASH, THE NAME \n",
            "& <BR>NUMBER OF THE REPORT YOU ARE ORDERING and<BR>YOUR E-MAIL ADDRESS to \n",
            "the person whose name appears<BR>ON THAT LIST next to the \n",
            "report.<BR><BR>     MAKE SURE YOUR RETURN ADDRESS IS ON \n",
            "YOUR<BR>     ENVELOPE TOP LEFT CORNER in case of any \n",
            "mail<BR>     problems.<BR><BR>     \n",
            "*****When you place your order, make \n",
            "sure<BR>               \n",
            "you order each of the 5 reports *****<BR><BR>You will need all 5 reports so that \n",
            "you can save them on your<BR>computer and resell them.<BR><BR>YOUR TOTAL COST $5 \n",
            "X 5 = $25.00<BR><BR>**********Within a few days you will receive, via e-mail, \n",
            "each<BR>of the 5 reports from these 5 different individuals.  Save<BR>them \n",
            "on your computer so they will be accessible for you to<BR>send to the 1,000's of \n",
            "people who will order them from you.<BR>Also make a floppy of these reports and \n",
            "keep it at your desk<BR>in case something happens to your \n",
            "computer.<BR><BR>**********IMPORTANT - DO NOT alter the names of the \n",
            "people<BR>who are listed next to each report, or their sequence on the <BR>list, \n",
            "in any way other than what is intructed below in steps<BR>1 through 6 or you \n",
            "will lose out on the majority of your profits.<BR>Once you understand the way \n",
            "this works, you will also see how<BR>it does not work if you change \n",
            "it.<BR><BR>Remember, this method has been tested, and if you alter,<BR>it will \n",
            "NOT work!!!<BR><BR>People have tried to put their friends/relatives names \n",
            "on<BR>all five thinking they could get all the money.  But it does<BR>not \n",
            "work this way.  Believe us, we have tried to be greedy<BR>and then nothing \n",
            "happened.<BR><BR>So do not try to change anything other than what is \n",
            "instructed.<BR>Because if you do, it will not work for you.  \n",
            "Remember,<BR>honesty reaps the reward!!!<BR><BR>1. After you have ordered all 5 \n",
            "reports, take this <BR>advertisement and REMOVE the name and address of the \n",
            "person in<BR>REPORT # 5.  This person has made it through the cycle and is \n",
            "<BR>no doubt counting their fortune.<BR><BR>2. Move the name & address in \n",
            "REPORT #4 down to REPORT #5.<BR>3. Move the name & address in REPORT #3 down \n",
            "to REPORT #4.<BR>4. Move the name & address in REPORT #2 down to REPORT \n",
            "#3.<BR>5. Move the name & address in REPORT #1 down to REPORT #2.<BR>6. \n",
            "Insert YOUR name & address in the REPORT #1 Position.<BR><BR>PLEASE MAKE \n",
            "SURE you copy every name & \n",
            "address<BR>ACCURATELY!<BR>-----------------------------------------------------------------------------<BR><BR>Take \n",
            "this entire letter, with the modified list of names,<BR>and save it on your \n",
            "computer.  DO NOT MAKE ANY OTHER<BR>CHANGES.  Save this on a disk as \n",
            "well just in case you loose<BR>any data.<BR><BR>To assist you with marketing \n",
            "your business on the Internet,<BR>the 5 reports you purchase will provide you \n",
            "with invaluable<BR>marketing information that includes:  How to send bulk \n",
            "e-mails<BR>legally, Where to find thousand of free classified ads and <BR>much, \n",
            "much more.<BR><BR>There are 2 Primary methods to get this venture \n",
            "going:<BR><BR>   METHOD #1:  SENDING BULK E-MAIL \n",
            "LEGALLY<BR>   \n",
            "---------------------------------------------------------<BR>Let's say that you \n",
            "decide to start small, just to see how<BR>it goes, and we'll assume you and \n",
            "those involved send out<BR>only 5,000 emails each.  Let's also assume that \n",
            "the mailing<BR>receives only a 0.2% response (the response could be \n",
            "much<BR>better but lets just say it is only 0.2%.  Also, many \n",
            "people<BR>will send out hundreds of thousands of e-mails instead of<BR>only \n",
            "5,000 each).<BR><BR>Continuing with this example, you send out only 5,000 \n",
            "e-mails.<BR>With a 0.2% response, that is only 10 orders for Report #1.<BR>Those \n",
            "10 people resonded by sending out 5,000 e-mails each<BR>for a total of \n",
            "50,000.  Out of those 50,000 e-mails only 0.2%<BR>responded with \n",
            "orders.  That's 100 people responded and<BR>ordered Report #2.  Those \n",
            "100 people mail out 5,000 e-mails<BR>each for a total of 500,000 e-mails.  \n",
            "The 0.2% response to <BR>that is 1000 orders for Report #3.<BR><BR>Thoe 1000 \n",
            "people send out 5,000 e-mails each for a total of<BR>5 million e-mails sent \n",
            "out.  The 0.2% response to that is<BR>10,000 orders for Report #4.  \n",
            "Those 10,000 people send out<BR>5,000 e-mails each for a total of 50,000,000 (50 \n",
            "million)<BR>e-mails.  the 0.2% response to that is 100,000 orders \n",
            "for<BR>Report #5.<BR><BR>THAT'S 100,000 ORDERS TIMES $5 EACH = 500,000<BR>(a \n",
            "half a million).<BR><BR>     Your total income in this \n",
            "example is:<BR>     1......$50 +<BR>     \n",
            "2......$500 +<BR>     3......$5,000 \n",
            "+<BR>     4......$50,000 +<BR>     \n",
            "5......$500,000 .................. Grand Total = \n",
            "$555,550.00<BR><BR>     NUMBERS DO NOT LIE.  GET A \n",
            "PENCIL & PAPER AND<BR>     FIGURE OUT THE WORST POSSIBLE \n",
            "RESPONSES AND <BR>     NO MATTER HOW YOU CALCULATE IT, YOU \n",
            "WILL<BR>     STILL MAKE A LOT OF \n",
            "MONEY!<BR>----------------------------------------------------------------------<BR>     \n",
            "REMEMBER FRIEND, THIS IS ASSUMING ONLY 10<BR>     PEOPLE \n",
            "ORDERING OUT OF 5,000 PEOPLE YOU MAILED.<BR><BR>Dare to think for a moment what \n",
            "would happen if everyone,<BR>or 1/2, or even 1/5 of those people mailed 100,000 \n",
            "e-mails<BR>each or more?  There are over 250 million people on the \n",
            "<BR>Internet worldwide and counting.  Believe me, many people<BR>will do \n",
            "just that, and more!<BR><BR>     METHOD #2:  PLACING \n",
            "FREE ADS ON THE INTERNET<BR>    \n",
            "<BR>---------------------------------------------------------------------<BR>Advertising \n",
            "on the net is very, very inexpensive and there<BR>are hundreds of FREE places to \n",
            "advertise.  Placing a lot of<BR>free ads on the internet will easily get a \n",
            "larger response.<BR>We strongly suggest you start with method # 1 and add \n",
            "METHOD<BR># 2 as you go along.<BR><BR>For every $5 you receive, all you must do \n",
            "is e-mail them the <BR>Report they ordered.  That's it!  Always \n",
            "provide same day<BR>service on all orders.  This will guarantee that the \n",
            "e-mails<BR>they send out, with your name and address on it, will be<BR>prompt \n",
            "because they can not advertise until they receive \n",
            "the<BR>report.<BR><BR>     ORDER EACH REPORT BY IT NUMBER \n",
            "& NAME ONLY.<BR><BR>Note:  Always send $5 cash (US Currency) for each \n",
            "report.<BR>Checks are NOT accepted.  Make sure the cash is wrapped in<BR>at \n",
            "lease 2 sheets of paper before you put it in the envelope.<BR>On one of those \n",
            "sheets of paper, write the NUMBER and the NAME<BR>of the Report you are \n",
            "ordering, your email ADDRESS, your NAME<BR>and postal address.  Make sure \n",
            "you affix the proper 'International'<BR>Postage if ordering a report from \n",
            "outside your country.<BR><BR>     PLACE YOUR ORDER FOR THESE \n",
            "REPORTS \n",
            "NOW:<BR>-------------------------------------------------------------------------<BR><BR>Report \n",
            "#1:  The Insider's Guide to Advertising for Free on the Net<BR>Order Report \n",
            "#1 from:<BR><BR>K.J. Nickels<BR>P.O. Box 739<BR>Waukesha, WI \n",
            "53187<BR><BR>\n"
          ]
        }
      ]
    },
    {
      "cell_type": "code",
      "source": [
        "emails = np.array(csv[1])\n",
        "import re \n",
        "\n",
        "all_matches = {} \n",
        "\n",
        "#Using .findall in the re package to get all matches \n",
        "#.search only gives the first match to the pattern \n",
        "\n",
        "for (email_index, email) in enumerate(emails):   \n",
        "  #words = re.findall('^[a-zA-Z]+', email)\n",
        "  words = re.findall('^[a-zA-Z]+', email.lower())\n",
        "  \n",
        "  for word in words:\n",
        "    if not word in all_matches.keys():\n",
        "      all_matches[word] = [0,0]\n",
        "    all_matches[word][int ((labels[email_index] + 1) /2) ] += 1\n",
        "\n",
        "#all_matches\n"
      ],
      "metadata": {
        "id": "FF4z_l8pJ8OT"
      },
      "execution_count": null,
      "outputs": []
    },
    {
      "cell_type": "code",
      "source": [
        "#Calculates proabability of each word being determined as spam(left is bad) \n",
        "#vs being determined as ham(right is good) in ratio\n",
        "import copy\n",
        "probs = copy.deepcopy(all_matches)    \n",
        "for key in probs:\n",
        "  \n",
        "  s = probs[key][0] + probs[key][1]   \n",
        "\n",
        "  probs[key][0] /= s\n",
        "  if(abs(probs[key][0] - 0.0) < 0.0000000001):     \n",
        "    probs[key][0] = 0.0000000001                   \n",
        "                                                  \n",
        "  probs[key][1] /= s                               \n",
        "  if(abs(probs[key][1] - 0.0) < 0.0000000001):     \n",
        "    probs[key][0] = 0.0000000001                   \n",
        "\n",
        "#probs"
      ],
      "metadata": {
        "id": "pfr5ckgEI3go"
      },
      "execution_count": null,
      "outputs": []
    },
    {
      "cell_type": "code",
      "source": [
        "def train_data(train_set_size):\n",
        "  all_words = {}    #initialize an empty dictionary to work from\n",
        "\n",
        "  for (email_index, email) in enumerate(emails):    # gather only words and similar output from emails\n",
        "    words = re.findall('[a-zA-Z]+', email)          \n",
        "  \n",
        "  for word in words:\n",
        "    if not word in all_words.keys():\n",
        "      all_words[word] = [0,0]\n",
        "    all_words[word][int ((labels[email_index] + 1) /2) ] += 1\n",
        "\n",
        "  probs = copy.deepcopy(all_words)   \n",
        "  for key in probs:\n",
        "  \n",
        "     s = probs[key][0] + probs[key][1]   \n",
        "\n",
        "  probs[key][0] /= s\n",
        "  if(abs(probs[key][0] - 0.0) < 0.0000000001):     \n",
        "    probs[key][0] = 0.0000000001                   \n",
        "                                                   \n",
        "  probs[key][1] /= s                               \n",
        "  if(abs(probs[key][1] - 0.0) < 0.0000000001):     \n",
        "    probs[key][0] = 0.0000000001  \n",
        "\n",
        "  return probs, words"
      ],
      "metadata": {
        "id": "FOC-gst3HCDX"
      },
      "execution_count": null,
      "outputs": []
    },
    {
      "cell_type": "code",
      "source": [
        "csv\n",
        "#seperate the emails by category -1 / 1 \n",
        "spam = csv[csv[0]== -1][1].to_numpy()\n",
        "ham = csv[csv[0]== 1][1].to_numpy()\n",
        "\n",
        "#spam[7]   #view spam emails\n",
        "#ham[7]    #view Ham emails "
      ],
      "metadata": {
        "id": "plGgskWhIXiH"
      },
      "execution_count": null,
      "outputs": []
    },
    {
      "cell_type": "code",
      "source": [
        "indices = np.random.permutation(250)  #vector ; each number an index, order randomized\n",
        "#indices"
      ],
      "metadata": {
        "id": "KiQvqQY6Ip34"
      },
      "execution_count": null,
      "outputs": []
    },
    {
      "cell_type": "code",
      "source": [
        "fraction = 0.2\n",
        "fraction_point = int(fraction * np.size(labels))\n",
        "\n",
        "train_labels = labels[indices[:fraction_point]]\n",
        "train_emails = emails[indices[:fraction_point]]\n",
        "\n",
        "test_labels = labels[indices[fraction_point:]]\n",
        "test_emails = emails[indices[fraction_point:]]\n",
        "\n",
        "#print(len(train_labels) + len(test_labels))   # total of emails train+test"
      ],
      "metadata": {
        "id": "pleR22HbI2A0"
      },
      "execution_count": null,
      "outputs": []
    },
    {
      "cell_type": "code",
      "source": [
        "def pr_email(email, bias, probs):\n",
        "  s = bias\n",
        "\n",
        "#learning\n",
        "for train_set_size in [50]:\n",
        "  p_spam = np.sum((labels[:train_set_size] == 1)* 1) / train_set_size\n",
        "  p_ham = 1 - p_spam\n",
        "  bias = np.log(p_spam / p_ham)\n",
        "\n",
        "  predictions = []\n",
        "  probs, words = train_data(train_set_size)\n",
        "  for (email_index, email) in enumerate(emails[train_set_size:]):\n",
        "    spam_ham = pr_email(email, bias, probs)\n",
        "    #predictions.insert(0, spam_ham)\n",
        "    predictions.append(spam_ham)\n",
        "\n",
        "  #difference = predictions - labels[train_set_size:]\n",
        "  #correct_classify = sum((difference == 0)* 1)\n",
        "  #correct_per = correct_classify / len(predictions)\n",
        "  #print(correct_per)\n"
      ],
      "metadata": {
        "id": "z0xwkLf1Qrlr"
      },
      "execution_count": null,
      "outputs": []
    },
    {
      "cell_type": "code",
      "source": [
        "#evaluate algorithm on test set(disjoint training)\n",
        "pred_labels = np.sign(np.random.randn(len(test_labels)))    \n",
        "pred_labels\n",
        "\n"
      ],
      "metadata": {
        "id": "nbtmw8txQz4l",
        "colab": {
          "base_uri": "https://localhost:8080/"
        },
        "outputId": "7a392fa6-73bf-4781-b3c9-1d9e17cf2cf8"
      },
      "execution_count": null,
      "outputs": [
        {
          "output_type": "execute_result",
          "data": {
            "text/plain": [
              "array([-1., -1.,  1., -1.,  1., -1.,  1., -1.,  1.,  1., -1., -1.,  1.,\n",
              "        1.,  1., -1., -1.,  1., -1.,  1.,  1.,  1., -1.,  1., -1.,  1.,\n",
              "       -1.,  1., -1., -1.,  1., -1., -1., -1., -1., -1.,  1.,  1.,  1.,\n",
              "       -1.,  1.,  1.,  1., -1., -1.,  1., -1.,  1.,  1., -1., -1., -1.,\n",
              "        1., -1.,  1., -1.,  1., -1., -1., -1.,  1.,  1., -1.,  1.,  1.,\n",
              "        1., -1.,  1.,  1., -1., -1., -1.,  1., -1.,  1.,  1.,  1.,  1.,\n",
              "       -1.,  1., -1., -1., -1., -1., -1.,  1., -1.,  1.,  1.,  1.,  1.,\n",
              "        1., -1.,  1.,  1., -1.,  1., -1.,  1.,  1., -1.,  1., -1., -1.,\n",
              "       -1.,  1., -1., -1., -1.,  1., -1., -1.,  1., -1.,  1.,  1., -1.,\n",
              "        1., -1., -1., -1., -1., -1.,  1., -1.,  1., -1., -1., -1.,  1.,\n",
              "        1., -1.,  1.,  1., -1., -1., -1., -1., -1., -1., -1.,  1.,  1.,\n",
              "       -1., -1.,  1., -1.,  1.,  1.,  1., -1., -1., -1.,  1., -1., -1.,\n",
              "       -1., -1.,  1.,  1.,  1.,  1., -1., -1.,  1., -1., -1.,  1., -1.,\n",
              "        1., -1., -1.,  1., -1., -1., -1., -1.,  1., -1., -1., -1., -1.,\n",
              "        1.,  1.,  1., -1.,  1.,  1.,  1., -1.,  1., -1.,  1., -1., -1.,\n",
              "       -1., -1.,  1., -1., -1.])"
            ]
          },
          "metadata": {},
          "execution_count": 10
        }
      ]
    },
    {
      "cell_type": "code",
      "source": [
        "#confusion matrix \n",
        "#0 = correct\n",
        "errors = pred_labels - test_labels\n",
        "errors"
      ],
      "metadata": {
        "id": "r4N9kMEBQ3B4",
        "colab": {
          "base_uri": "https://localhost:8080/"
        },
        "outputId": "168d5d7a-54c0-48ea-fd34-78c35dce2d77"
      },
      "execution_count": null,
      "outputs": [
        {
          "output_type": "execute_result",
          "data": {
            "text/plain": [
              "array([ 0., -2.,  0., -2.,  0., -2.,  0.,  0.,  0.,  2., -2.,  0.,  2.,\n",
              "        2.,  0.,  0.,  0.,  2.,  0.,  2.,  2.,  0., -2.,  0.,  0.,  2.,\n",
              "        0.,  2., -2., -2.,  2.,  0., -2.,  0., -2., -2.,  0.,  0.,  2.,\n",
              "       -2.,  2.,  2.,  2.,  0., -2.,  2., -2.,  2.,  2., -2., -2.,  0.,\n",
              "        0.,  0.,  0., -2.,  0., -2.,  0.,  0.,  0.,  0., -2.,  2.,  2.,\n",
              "        2.,  0.,  2.,  0., -2., -2.,  0.,  0., -2.,  2.,  0.,  0.,  0.,\n",
              "        0.,  0., -2., -2.,  0.,  0.,  0.,  0., -2.,  2.,  0.,  2.,  0.,\n",
              "        2.,  0.,  2.,  2., -2.,  2.,  0.,  0.,  2., -2.,  2., -2.,  0.,\n",
              "        0.,  0.,  0., -2.,  0.,  2., -2.,  0.,  2.,  0.,  2.,  0., -2.,\n",
              "        2., -2.,  0.,  0., -2., -2.,  0., -2.,  0.,  0.,  0., -2.,  0.,\n",
              "        0., -2.,  0.,  2., -2.,  0., -2., -2.,  0.,  0.,  0.,  2.,  2.,\n",
              "        0.,  0.,  0.,  0.,  0.,  2.,  0., -2.,  0.,  0.,  0., -2.,  0.,\n",
              "        0.,  0.,  0.,  0.,  2.,  2., -2.,  0.,  0., -2.,  0.,  0.,  0.,\n",
              "        2., -2.,  0.,  2., -2.,  0., -2., -2.,  0.,  0., -2.,  0., -2.,\n",
              "        0.,  0.,  0.,  0.,  2.,  2.,  2., -2.,  0., -2.,  2.,  0.,  0.,\n",
              "        0.,  0.,  2.,  0.,  0.])"
            ]
          },
          "metadata": {},
          "execution_count": 11
        }
      ]
    },
    {
      "cell_type": "code",
      "source": [
        "#true positives\n",
        "true_pr = np.sum(errors == 0) / len(errors)\n",
        "true_pr"
      ],
      "metadata": {
        "colab": {
          "base_uri": "https://localhost:8080/"
        },
        "id": "C487rdHgQ6Ps",
        "outputId": "ffec6400-c236-48b5-e3bf-9c597cd218f2"
      },
      "execution_count": null,
      "outputs": [
        {
          "output_type": "execute_result",
          "data": {
            "text/plain": [
              "0.515"
            ]
          },
          "metadata": {},
          "execution_count": 12
        }
      ]
    },
    {
      "cell_type": "code",
      "source": [
        "#false postives // should be low\n",
        "false_pr = np.sum(errors == -2) / len(errors)\n",
        "false_pr"
      ],
      "metadata": {
        "colab": {
          "base_uri": "https://localhost:8080/"
        },
        "id": "EKhCACDAQ8Pb",
        "outputId": "0f42a891-103d-46f7-9029-5abbe5bd3a68"
      },
      "execution_count": null,
      "outputs": [
        {
          "output_type": "execute_result",
          "data": {
            "text/plain": [
              "0.255"
            ]
          },
          "metadata": {},
          "execution_count": 13
        }
      ]
    },
    {
      "cell_type": "code",
      "source": [
        "true_pr = np.sum(errors == 0) \n",
        "true_pr"
      ],
      "metadata": {
        "colab": {
          "base_uri": "https://localhost:8080/"
        },
        "id": "Gjua_hyX73t9",
        "outputId": "32a59201-1790-4b7d-aec7-446e5e0ce127"
      },
      "execution_count": null,
      "outputs": [
        {
          "output_type": "execute_result",
          "data": {
            "text/plain": [
              "103"
            ]
          },
          "metadata": {},
          "execution_count": 14
        }
      ]
    },
    {
      "cell_type": "code",
      "source": [
        "false_pr = np.sum(errors == -2) \n",
        "false_pr"
      ],
      "metadata": {
        "colab": {
          "base_uri": "https://localhost:8080/"
        },
        "id": "o9ZUWmkM8EN1",
        "outputId": "264a8847-29ab-458e-c240-435f54b0f74b"
      },
      "execution_count": null,
      "outputs": [
        {
          "output_type": "execute_result",
          "data": {
            "text/plain": [
              "51"
            ]
          },
          "metadata": {},
          "execution_count": 15
        }
      ]
    },
    {
      "cell_type": "code",
      "source": [
        "FP = errors.sum(axis=-1) - np.any(errors)  \n",
        "FN = errors.sum(axis=0) - np.any(errors)\n",
        "TP = np.any(errors)\n",
        "TN = errors.sum() - (FP + FN + TP)\n",
        "TN"
      ],
      "metadata": {
        "colab": {
          "base_uri": "https://localhost:8080/"
        },
        "id": "yqYkPyGJh9PF",
        "outputId": "ccfc7184-d44b-42ee-e33b-fb861e0f8902"
      },
      "execution_count": null,
      "outputs": [
        {
          "output_type": "execute_result",
          "data": {
            "text/plain": [
              "11.0"
            ]
          },
          "metadata": {},
          "execution_count": 16
        }
      ]
    },
    {
      "cell_type": "code",
      "source": [
        "# - Sensitivity, hit rate, recall, or true positive rate\n",
        "#TPR = TP/(TP+FN)\n",
        "# - Specificity or true negative rate\n",
        "#TNR = TN/(TN+FP) \n",
        "# - Precision or positive predictive value\n",
        "#PPV = TP/(TP+FP)\n",
        "# - Negative predictive value\n",
        "#NPV = TN/(TN+FN)\n",
        "# - Fall out or false positive rate\n",
        "#FPR = FP/(FP+TN)\n",
        "# - False negative rate\n",
        "#FNR = FN/(TP+FN)\n",
        "# - False discovery rate\n",
        "#FDR = FP/(TP+FP)\n",
        "\n",
        "# - Overall accuracy\n",
        "#ACC = (TP+TN)/(TP+FP+FN+TN)"
      ],
      "metadata": {
        "id": "I6gKCrkQzjVF"
      },
      "execution_count": null,
      "outputs": []
    }
  ]
}